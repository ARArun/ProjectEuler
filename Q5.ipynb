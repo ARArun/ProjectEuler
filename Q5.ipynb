{
  "nbformat": 4,
  "nbformat_minor": 0,
  "metadata": {
    "colab": {
      "name": "Untitled2.ipynb",
      "provenance": []
    },
    "kernelspec": {
      "name": "python3",
      "display_name": "Python 3"
    }
  },
  "cells": [
    {
      "cell_type": "markdown",
      "metadata": {
        "id": "J3xsUHG_Atat",
        "colab_type": "text"
      },
      "source": [
        "# **Q5**\n",
        "\n",
        "\n",
        "\n",
        "2520 is the smallest number that can be divided by each of the numbers from 1 to 10 without any remainder.\n",
        "\n",
        "What is the smallest positive number that is evenly divisible by all of the numbers from 1 to 20?"
      ]
    },
    {
      "cell_type": "code",
      "metadata": {
        "id": "2qWmDYk5AudE",
        "colab_type": "code",
        "colab": {
          "base_uri": "https://localhost:8080/",
          "height": 34
        },
        "outputId": "8437e6b6-c3b7-4352-ac4e-2d9cb45432f3"
      },
      "source": [
        "ans = 2521\n",
        "while True:\n",
        "  s = 0\n",
        "  for i in range(1, 21):\n",
        "    if ans%i == 0:\n",
        "      s += 1\n",
        "  if s == 20:\n",
        "     break\n",
        "  ans += 1\n",
        "print(ans)"
      ],
      "execution_count": 3,
      "outputs": [
        {
          "output_type": "stream",
          "text": [
            "232792560\n"
          ],
          "name": "stdout"
        }
      ]
    },
    {
      "cell_type": "code",
      "metadata": {
        "id": "EXSzN90eBRyr",
        "colab_type": "code",
        "colab": {}
      },
      "source": [
        ""
      ],
      "execution_count": 0,
      "outputs": []
    }
  ]
}